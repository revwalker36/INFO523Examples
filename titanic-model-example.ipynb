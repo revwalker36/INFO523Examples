{
 "cells": [
  {
   "cell_type": "code",
   "execution_count": 1,
   "id": "2c773d6d",
   "metadata": {
    "_cell_guid": "b1076dfc-b9ad-4769-8c92-a6c4dae69d19",
    "_uuid": "8f2839f25d086af736a60e9eeb907d3b93b6e0e5",
    "execution": {
     "iopub.execute_input": "2022-08-14T23:59:21.563003Z",
     "iopub.status.busy": "2022-08-14T23:59:21.562381Z",
     "iopub.status.idle": "2022-08-14T23:59:22.831096Z",
     "shell.execute_reply": "2022-08-14T23:59:22.829951Z"
    },
    "papermill": {
     "duration": 1.280512,
     "end_time": "2022-08-14T23:59:22.833993",
     "exception": false,
     "start_time": "2022-08-14T23:59:21.553481",
     "status": "completed"
    },
    "tags": []
   },
   "outputs": [],
   "source": [
    "#importing required libraries\n",
    "import numpy as np # linear algebra\n",
    "import pandas as pd # data processing, CSV file I/O (e.g. pd.read_csv)\n",
    "from sklearn.model_selection import train_test_split\n",
    "from sklearn.tree import DecisionTreeClassifier\n",
    "import sklearn.metrics as metrics\n",
    "from sklearn.metrics import classification_report"
   ]
  },
  {
   "cell_type": "code",
   "execution_count": 2,
   "id": "ff7d8105",
   "metadata": {
    "execution": {
     "iopub.execute_input": "2022-08-14T23:59:22.845796Z",
     "iopub.status.busy": "2022-08-14T23:59:22.844623Z",
     "iopub.status.idle": "2022-08-14T23:59:22.864624Z",
     "shell.execute_reply": "2022-08-14T23:59:22.863664Z"
    },
    "papermill": {
     "duration": 0.028413,
     "end_time": "2022-08-14T23:59:22.867279",
     "exception": false,
     "start_time": "2022-08-14T23:59:22.838866",
     "status": "completed"
    },
    "tags": []
   },
   "outputs": [],
   "source": [
    "#reading training data\n",
    "train = pd.read_csv(\"/kaggle/input/titanic/train.csv\")"
   ]
  },
  {
   "cell_type": "code",
   "execution_count": 3,
   "id": "d1254c5d",
   "metadata": {
    "execution": {
     "iopub.execute_input": "2022-08-14T23:59:22.878869Z",
     "iopub.status.busy": "2022-08-14T23:59:22.877690Z",
     "iopub.status.idle": "2022-08-14T23:59:22.902751Z",
     "shell.execute_reply": "2022-08-14T23:59:22.901504Z"
    },
    "papermill": {
     "duration": 0.033895,
     "end_time": "2022-08-14T23:59:22.905773",
     "exception": false,
     "start_time": "2022-08-14T23:59:22.871878",
     "status": "completed"
    },
    "tags": []
   },
   "outputs": [
    {
     "data": {
      "text/html": [
       "<div>\n",
       "<style scoped>\n",
       "    .dataframe tbody tr th:only-of-type {\n",
       "        vertical-align: middle;\n",
       "    }\n",
       "\n",
       "    .dataframe tbody tr th {\n",
       "        vertical-align: top;\n",
       "    }\n",
       "\n",
       "    .dataframe thead th {\n",
       "        text-align: right;\n",
       "    }\n",
       "</style>\n",
       "<table border=\"1\" class=\"dataframe\">\n",
       "  <thead>\n",
       "    <tr style=\"text-align: right;\">\n",
       "      <th></th>\n",
       "      <th>PassengerId</th>\n",
       "      <th>Survived</th>\n",
       "      <th>Pclass</th>\n",
       "      <th>Name</th>\n",
       "      <th>Sex</th>\n",
       "      <th>Age</th>\n",
       "      <th>SibSp</th>\n",
       "      <th>Parch</th>\n",
       "      <th>Ticket</th>\n",
       "      <th>Fare</th>\n",
       "      <th>Cabin</th>\n",
       "      <th>Embarked</th>\n",
       "    </tr>\n",
       "  </thead>\n",
       "  <tbody>\n",
       "    <tr>\n",
       "      <th>0</th>\n",
       "      <td>1</td>\n",
       "      <td>0</td>\n",
       "      <td>3</td>\n",
       "      <td>Braund, Mr. Owen Harris</td>\n",
       "      <td>male</td>\n",
       "      <td>22.0</td>\n",
       "      <td>1</td>\n",
       "      <td>0</td>\n",
       "      <td>A/5 21171</td>\n",
       "      <td>7.2500</td>\n",
       "      <td>NaN</td>\n",
       "      <td>S</td>\n",
       "    </tr>\n",
       "    <tr>\n",
       "      <th>1</th>\n",
       "      <td>2</td>\n",
       "      <td>1</td>\n",
       "      <td>1</td>\n",
       "      <td>Cumings, Mrs. John Bradley (Florence Briggs Th...</td>\n",
       "      <td>female</td>\n",
       "      <td>38.0</td>\n",
       "      <td>1</td>\n",
       "      <td>0</td>\n",
       "      <td>PC 17599</td>\n",
       "      <td>71.2833</td>\n",
       "      <td>C85</td>\n",
       "      <td>C</td>\n",
       "    </tr>\n",
       "    <tr>\n",
       "      <th>2</th>\n",
       "      <td>3</td>\n",
       "      <td>1</td>\n",
       "      <td>3</td>\n",
       "      <td>Heikkinen, Miss. Laina</td>\n",
       "      <td>female</td>\n",
       "      <td>26.0</td>\n",
       "      <td>0</td>\n",
       "      <td>0</td>\n",
       "      <td>STON/O2. 3101282</td>\n",
       "      <td>7.9250</td>\n",
       "      <td>NaN</td>\n",
       "      <td>S</td>\n",
       "    </tr>\n",
       "    <tr>\n",
       "      <th>3</th>\n",
       "      <td>4</td>\n",
       "      <td>1</td>\n",
       "      <td>1</td>\n",
       "      <td>Futrelle, Mrs. Jacques Heath (Lily May Peel)</td>\n",
       "      <td>female</td>\n",
       "      <td>35.0</td>\n",
       "      <td>1</td>\n",
       "      <td>0</td>\n",
       "      <td>113803</td>\n",
       "      <td>53.1000</td>\n",
       "      <td>C123</td>\n",
       "      <td>S</td>\n",
       "    </tr>\n",
       "    <tr>\n",
       "      <th>4</th>\n",
       "      <td>5</td>\n",
       "      <td>0</td>\n",
       "      <td>3</td>\n",
       "      <td>Allen, Mr. William Henry</td>\n",
       "      <td>male</td>\n",
       "      <td>35.0</td>\n",
       "      <td>0</td>\n",
       "      <td>0</td>\n",
       "      <td>373450</td>\n",
       "      <td>8.0500</td>\n",
       "      <td>NaN</td>\n",
       "      <td>S</td>\n",
       "    </tr>\n",
       "  </tbody>\n",
       "</table>\n",
       "</div>"
      ],
      "text/plain": [
       "   PassengerId  Survived  Pclass  \\\n",
       "0            1         0       3   \n",
       "1            2         1       1   \n",
       "2            3         1       3   \n",
       "3            4         1       1   \n",
       "4            5         0       3   \n",
       "\n",
       "                                                Name     Sex   Age  SibSp  \\\n",
       "0                            Braund, Mr. Owen Harris    male  22.0      1   \n",
       "1  Cumings, Mrs. John Bradley (Florence Briggs Th...  female  38.0      1   \n",
       "2                             Heikkinen, Miss. Laina  female  26.0      0   \n",
       "3       Futrelle, Mrs. Jacques Heath (Lily May Peel)  female  35.0      1   \n",
       "4                           Allen, Mr. William Henry    male  35.0      0   \n",
       "\n",
       "   Parch            Ticket     Fare Cabin Embarked  \n",
       "0      0         A/5 21171   7.2500   NaN        S  \n",
       "1      0          PC 17599  71.2833   C85        C  \n",
       "2      0  STON/O2. 3101282   7.9250   NaN        S  \n",
       "3      0            113803  53.1000  C123        S  \n",
       "4      0            373450   8.0500   NaN        S  "
      ]
     },
     "execution_count": 3,
     "metadata": {},
     "output_type": "execute_result"
    }
   ],
   "source": [
    "#first 5 rows\n",
    "train.head()"
   ]
  },
  {
   "cell_type": "code",
   "execution_count": 4,
   "id": "ed51b557",
   "metadata": {
    "execution": {
     "iopub.execute_input": "2022-08-14T23:59:22.917806Z",
     "iopub.status.busy": "2022-08-14T23:59:22.917004Z",
     "iopub.status.idle": "2022-08-14T23:59:22.926846Z",
     "shell.execute_reply": "2022-08-14T23:59:22.925635Z"
    },
    "papermill": {
     "duration": 0.018761,
     "end_time": "2022-08-14T23:59:22.929469",
     "exception": false,
     "start_time": "2022-08-14T23:59:22.910708",
     "status": "completed"
    },
    "tags": []
   },
   "outputs": [
    {
     "data": {
      "text/plain": [
       "PassengerId      0\n",
       "Survived         0\n",
       "Pclass           0\n",
       "Name             0\n",
       "Sex              0\n",
       "Age            177\n",
       "SibSp            0\n",
       "Parch            0\n",
       "Ticket           0\n",
       "Fare             0\n",
       "Cabin          687\n",
       "Embarked         2\n",
       "dtype: int64"
      ]
     },
     "execution_count": 4,
     "metadata": {},
     "output_type": "execute_result"
    }
   ],
   "source": [
    "#number of nulls in each column\n",
    "train.isna().sum()"
   ]
  },
  {
   "cell_type": "code",
   "execution_count": 5,
   "id": "e5c57f27",
   "metadata": {
    "execution": {
     "iopub.execute_input": "2022-08-14T23:59:22.941672Z",
     "iopub.status.busy": "2022-08-14T23:59:22.940877Z",
     "iopub.status.idle": "2022-08-14T23:59:22.949398Z",
     "shell.execute_reply": "2022-08-14T23:59:22.948463Z"
    },
    "papermill": {
     "duration": 0.017258,
     "end_time": "2022-08-14T23:59:22.951712",
     "exception": false,
     "start_time": "2022-08-14T23:59:22.934454",
     "status": "completed"
    },
    "tags": []
   },
   "outputs": [
    {
     "data": {
      "text/plain": [
       "PassengerId      int64\n",
       "Survived         int64\n",
       "Pclass           int64\n",
       "Name            object\n",
       "Sex             object\n",
       "Age            float64\n",
       "SibSp            int64\n",
       "Parch            int64\n",
       "Ticket          object\n",
       "Fare           float64\n",
       "Cabin           object\n",
       "Embarked        object\n",
       "dtype: object"
      ]
     },
     "execution_count": 5,
     "metadata": {},
     "output_type": "execute_result"
    }
   ],
   "source": [
    "#checking data type \n",
    "train.dtypes"
   ]
  },
  {
   "cell_type": "code",
   "execution_count": 6,
   "id": "178d325c",
   "metadata": {
    "execution": {
     "iopub.execute_input": "2022-08-14T23:59:22.963593Z",
     "iopub.status.busy": "2022-08-14T23:59:22.963177Z",
     "iopub.status.idle": "2022-08-14T23:59:22.972867Z",
     "shell.execute_reply": "2022-08-14T23:59:22.971664Z"
    },
    "papermill": {
     "duration": 0.018621,
     "end_time": "2022-08-14T23:59:22.975445",
     "exception": false,
     "start_time": "2022-08-14T23:59:22.956824",
     "status": "completed"
    },
    "tags": []
   },
   "outputs": [],
   "source": [
    "from sklearn.preprocessing import LabelEncoder\n",
    "le = LabelEncoder()\n",
    "numerical_sex = le.fit_transform(train['Sex'])\n",
    "train['Sex'] = numerical_sex\n"
   ]
  },
  {
   "cell_type": "code",
   "execution_count": 7,
   "id": "ff4ab31d",
   "metadata": {
    "execution": {
     "iopub.execute_input": "2022-08-14T23:59:22.987447Z",
     "iopub.status.busy": "2022-08-14T23:59:22.987064Z",
     "iopub.status.idle": "2022-08-14T23:59:23.013846Z",
     "shell.execute_reply": "2022-08-14T23:59:23.011944Z"
    },
    "papermill": {
     "duration": 0.037521,
     "end_time": "2022-08-14T23:59:23.018055",
     "exception": false,
     "start_time": "2022-08-14T23:59:22.980534",
     "status": "completed"
    },
    "tags": []
   },
   "outputs": [
    {
     "name": "stdout",
     "output_type": "stream",
     "text": [
      "<class 'pandas.core.frame.DataFrame'>\n",
      "RangeIndex: 891 entries, 0 to 890\n",
      "Data columns (total 12 columns):\n",
      " #   Column       Non-Null Count  Dtype  \n",
      "---  ------       --------------  -----  \n",
      " 0   PassengerId  891 non-null    int64  \n",
      " 1   Survived     891 non-null    int64  \n",
      " 2   Pclass       891 non-null    int64  \n",
      " 3   Name         891 non-null    object \n",
      " 4   Sex          891 non-null    int64  \n",
      " 5   Age          891 non-null    float64\n",
      " 6   SibSp        891 non-null    int64  \n",
      " 7   Parch        891 non-null    int64  \n",
      " 8   Ticket       891 non-null    object \n",
      " 9   Fare         891 non-null    float64\n",
      " 10  Cabin        204 non-null    object \n",
      " 11  Embarked     889 non-null    object \n",
      "dtypes: float64(2), int64(6), object(4)\n",
      "memory usage: 83.7+ KB\n"
     ]
    }
   ],
   "source": [
    "train['Age'].fillna(train['Age'].median(),inplace=True)\n",
    "train.info()\n"
   ]
  },
  {
   "cell_type": "code",
   "execution_count": 8,
   "id": "62bcecf6",
   "metadata": {
    "execution": {
     "iopub.execute_input": "2022-08-14T23:59:23.030855Z",
     "iopub.status.busy": "2022-08-14T23:59:23.030436Z",
     "iopub.status.idle": "2022-08-14T23:59:23.046547Z",
     "shell.execute_reply": "2022-08-14T23:59:23.045223Z"
    },
    "papermill": {
     "duration": 0.025322,
     "end_time": "2022-08-14T23:59:23.048967",
     "exception": false,
     "start_time": "2022-08-14T23:59:23.023645",
     "status": "completed"
    },
    "tags": []
   },
   "outputs": [
    {
     "name": "stdout",
     "output_type": "stream",
     "text": [
      "<class 'pandas.core.frame.DataFrame'>\n",
      "RangeIndex: 891 entries, 0 to 890\n",
      "Data columns (total 8 columns):\n",
      " #   Column       Non-Null Count  Dtype  \n",
      "---  ------       --------------  -----  \n",
      " 0   PassengerId  891 non-null    int64  \n",
      " 1   Survived     891 non-null    int64  \n",
      " 2   Pclass       891 non-null    int64  \n",
      " 3   Sex          891 non-null    int64  \n",
      " 4   Age          891 non-null    float64\n",
      " 5   SibSp        891 non-null    int64  \n",
      " 6   Parch        891 non-null    int64  \n",
      " 7   Fare         891 non-null    float64\n",
      "dtypes: float64(2), int64(6)\n",
      "memory usage: 55.8 KB\n"
     ]
    }
   ],
   "source": [
    "train=train.drop(columns=['Name','Ticket','Embarked','Cabin'],axis=1)\n",
    "train.info()\n"
   ]
  },
  {
   "cell_type": "code",
   "execution_count": 9,
   "id": "bdf912ad",
   "metadata": {
    "execution": {
     "iopub.execute_input": "2022-08-14T23:59:23.061175Z",
     "iopub.status.busy": "2022-08-14T23:59:23.060549Z",
     "iopub.status.idle": "2022-08-14T23:59:23.066685Z",
     "shell.execute_reply": "2022-08-14T23:59:23.065605Z"
    },
    "papermill": {
     "duration": 0.014542,
     "end_time": "2022-08-14T23:59:23.068674",
     "exception": false,
     "start_time": "2022-08-14T23:59:23.054132",
     "status": "completed"
    },
    "tags": []
   },
   "outputs": [],
   "source": [
    "#select columns to be used in training\n",
    "colunas = ['Sex','Age','SibSp','Fare']\n",
    "X = train[colunas]\n",
    "y = train.Survived"
   ]
  },
  {
   "cell_type": "code",
   "execution_count": 10,
   "id": "181acd48",
   "metadata": {
    "execution": {
     "iopub.execute_input": "2022-08-14T23:59:23.081115Z",
     "iopub.status.busy": "2022-08-14T23:59:23.080395Z",
     "iopub.status.idle": "2022-08-14T23:59:23.092515Z",
     "shell.execute_reply": "2022-08-14T23:59:23.091146Z"
    },
    "papermill": {
     "duration": 0.021762,
     "end_time": "2022-08-14T23:59:23.095614",
     "exception": false,
     "start_time": "2022-08-14T23:59:23.073852",
     "status": "completed"
    },
    "tags": []
   },
   "outputs": [
    {
     "name": "stdout",
     "output_type": "stream",
     "text": [
      "     Sex   Age  SibSp     Fare\n",
      "0      1  22.0      1   7.2500\n",
      "1      0  38.0      1  71.2833\n",
      "2      0  26.0      0   7.9250\n",
      "3      0  35.0      1  53.1000\n",
      "4      1  35.0      0   8.0500\n",
      "..   ...   ...    ...      ...\n",
      "886    1  27.0      0  13.0000\n",
      "887    0  19.0      0  30.0000\n",
      "888    0  28.0      1  23.4500\n",
      "889    1  26.0      0  30.0000\n",
      "890    1  32.0      0   7.7500\n",
      "\n",
      "[891 rows x 4 columns]\n"
     ]
    }
   ],
   "source": [
    "#there is a need for pre-processing in the other fields\n",
    "#split dataset into trainig and testing data from training data\n",
    "train_X, val_X, train_y, val_y = train_test_split(X,y,random_state = 0)\n",
    "print(X)"
   ]
  },
  {
   "cell_type": "code",
   "execution_count": 11,
   "id": "2d9410f5",
   "metadata": {
    "execution": {
     "iopub.execute_input": "2022-08-14T23:59:23.108951Z",
     "iopub.status.busy": "2022-08-14T23:59:23.108043Z",
     "iopub.status.idle": "2022-08-14T23:59:23.122132Z",
     "shell.execute_reply": "2022-08-14T23:59:23.121098Z"
    },
    "papermill": {
     "duration": 0.022905,
     "end_time": "2022-08-14T23:59:23.124213",
     "exception": false,
     "start_time": "2022-08-14T23:59:23.101308",
     "status": "completed"
    },
    "tags": []
   },
   "outputs": [
    {
     "data": {
      "text/plain": [
       "DecisionTreeClassifier(random_state=1)"
      ]
     },
     "execution_count": 11,
     "metadata": {},
     "output_type": "execute_result"
    }
   ],
   "source": [
    "model = DecisionTreeClassifier(random_state=1)\n",
    "model.fit(train_X,train_y)"
   ]
  },
  {
   "cell_type": "code",
   "execution_count": 12,
   "id": "681b0347",
   "metadata": {
    "execution": {
     "iopub.execute_input": "2022-08-14T23:59:23.136842Z",
     "iopub.status.busy": "2022-08-14T23:59:23.136140Z",
     "iopub.status.idle": "2022-08-14T23:59:23.148853Z",
     "shell.execute_reply": "2022-08-14T23:59:23.148055Z"
    },
    "papermill": {
     "duration": 0.021616,
     "end_time": "2022-08-14T23:59:23.151181",
     "exception": false,
     "start_time": "2022-08-14T23:59:23.129565",
     "status": "completed"
    },
    "tags": []
   },
   "outputs": [
    {
     "name": "stdout",
     "output_type": "stream",
     "text": [
      "<class 'pandas.core.frame.DataFrame'>\n",
      "Int64Index: 223 entries, 495 to 10\n",
      "Data columns (total 4 columns):\n",
      " #   Column  Non-Null Count  Dtype  \n",
      "---  ------  --------------  -----  \n",
      " 0   Sex     223 non-null    int64  \n",
      " 1   Age     223 non-null    float64\n",
      " 2   SibSp   223 non-null    int64  \n",
      " 3   Fare    223 non-null    float64\n",
      "dtypes: float64(2), int64(2)\n",
      "memory usage: 8.7 KB\n"
     ]
    }
   ],
   "source": [
    "#testing on test data\n",
    "val_X.info()\n",
    "prediction = model.predict(val_X)"
   ]
  },
  {
   "cell_type": "code",
   "execution_count": 13,
   "id": "76310fb1",
   "metadata": {
    "execution": {
     "iopub.execute_input": "2022-08-14T23:59:23.163868Z",
     "iopub.status.busy": "2022-08-14T23:59:23.163275Z",
     "iopub.status.idle": "2022-08-14T23:59:23.169533Z",
     "shell.execute_reply": "2022-08-14T23:59:23.168794Z"
    },
    "papermill": {
     "duration": 0.014938,
     "end_time": "2022-08-14T23:59:23.171492",
     "exception": false,
     "start_time": "2022-08-14T23:59:23.156554",
     "status": "completed"
    },
    "tags": []
   },
   "outputs": [
    {
     "data": {
      "text/plain": [
       "array([0, 0, 0, 1, 1, 0, 1, 1, 0, 1, 0, 1, 0, 1, 1, 1, 0, 0, 0, 1, 0, 0,\n",
       "       0, 1, 0, 1, 0, 1, 1, 0, 0, 1, 0, 1, 1, 0, 0, 0, 0, 0, 0, 1, 0, 0,\n",
       "       1, 0, 0, 1, 0, 1, 0, 0, 0, 0, 0, 0, 0, 0, 0, 0, 0, 1, 1, 0, 1, 0,\n",
       "       1, 0, 1, 1, 1, 1, 0, 0, 0, 0, 0, 0, 0, 0, 0, 1, 1, 0, 0, 1, 1, 0,\n",
       "       1, 0, 0, 0, 1, 1, 0, 0, 0, 0, 0, 0, 0, 0, 0, 0, 0, 1, 1, 1, 0, 1,\n",
       "       0, 1, 1, 0, 0, 1, 0, 1, 0, 0, 0, 1, 0, 0, 0, 0, 0, 0, 0, 0, 1, 0,\n",
       "       0, 1, 0, 0, 0, 0, 0, 0, 1, 1, 0, 1, 1, 0, 0, 0, 1, 1, 0, 1, 1, 1,\n",
       "       1, 0, 1, 0, 1, 1, 0, 0, 1, 0, 0, 0, 0, 1, 0, 0, 0, 1, 0, 0, 1, 0,\n",
       "       1, 0, 0, 1, 1, 0, 0, 0, 0, 0, 1, 0, 0, 1, 1, 0, 1, 1, 0, 0, 0, 0,\n",
       "       1, 0, 0, 0, 0, 0, 0, 0, 0, 1, 1, 0, 0, 0, 0, 0, 0, 0, 0, 1, 0, 1,\n",
       "       0, 1, 0])"
      ]
     },
     "execution_count": 13,
     "metadata": {},
     "output_type": "execute_result"
    }
   ],
   "source": [
    "prediction"
   ]
  },
  {
   "cell_type": "code",
   "execution_count": 14,
   "id": "179fb948",
   "metadata": {
    "execution": {
     "iopub.execute_input": "2022-08-14T23:59:23.184515Z",
     "iopub.status.busy": "2022-08-14T23:59:23.183834Z",
     "iopub.status.idle": "2022-08-14T23:59:23.190397Z",
     "shell.execute_reply": "2022-08-14T23:59:23.189623Z"
    },
    "papermill": {
     "duration": 0.015301,
     "end_time": "2022-08-14T23:59:23.192424",
     "exception": false,
     "start_time": "2022-08-14T23:59:23.177123",
     "status": "completed"
    },
    "tags": []
   },
   "outputs": [
    {
     "data": {
      "text/plain": [
       "0.7668161434977578"
      ]
     },
     "execution_count": 14,
     "metadata": {},
     "output_type": "execute_result"
    }
   ],
   "source": [
    "metrics.accuracy_score(val_y, prediction)"
   ]
  },
  {
   "cell_type": "code",
   "execution_count": 15,
   "id": "e8cd6e60",
   "metadata": {
    "execution": {
     "iopub.execute_input": "2022-08-14T23:59:23.205517Z",
     "iopub.status.busy": "2022-08-14T23:59:23.204835Z",
     "iopub.status.idle": "2022-08-14T23:59:23.214075Z",
     "shell.execute_reply": "2022-08-14T23:59:23.212986Z"
    },
    "papermill": {
     "duration": 0.018542,
     "end_time": "2022-08-14T23:59:23.216535",
     "exception": false,
     "start_time": "2022-08-14T23:59:23.197993",
     "status": "completed"
    },
    "tags": []
   },
   "outputs": [
    {
     "name": "stdout",
     "output_type": "stream",
     "text": [
      "              precision    recall  f1-score   support\n",
      "\n",
      "           0       0.80      0.83      0.82       139\n",
      "           1       0.71      0.65      0.68        84\n",
      "\n",
      "    accuracy                           0.77       223\n",
      "   macro avg       0.75      0.74      0.75       223\n",
      "weighted avg       0.76      0.77      0.76       223\n",
      "\n"
     ]
    }
   ],
   "source": [
    "print(classification_report(val_y,prediction))"
   ]
  },
  {
   "cell_type": "code",
   "execution_count": 16,
   "id": "3baec176",
   "metadata": {
    "execution": {
     "iopub.execute_input": "2022-08-14T23:59:23.229669Z",
     "iopub.status.busy": "2022-08-14T23:59:23.228976Z",
     "iopub.status.idle": "2022-08-14T23:59:23.236947Z",
     "shell.execute_reply": "2022-08-14T23:59:23.236101Z"
    },
    "papermill": {
     "duration": 0.017562,
     "end_time": "2022-08-14T23:59:23.239692",
     "exception": false,
     "start_time": "2022-08-14T23:59:23.222130",
     "status": "completed"
    },
    "tags": []
   },
   "outputs": [
    {
     "name": "stdout",
     "output_type": "stream",
     "text": [
      "[1]\n"
     ]
    },
    {
     "name": "stderr",
     "output_type": "stream",
     "text": [
      "/opt/conda/lib/python3.7/site-packages/sklearn/base.py:451: UserWarning: X does not have valid feature names, but DecisionTreeClassifier was fitted with feature names\n",
      "  \"X does not have valid feature names, but\"\n"
     ]
    }
   ],
   "source": [
    "Person = [[0, 25, 0, 7.25]]\n",
    "print(model.predict(Person))\n"
   ]
  }
 ],
 "metadata": {
  "kernelspec": {
   "display_name": "Python 3",
   "language": "python",
   "name": "python3"
  },
  "language_info": {
   "codemirror_mode": {
    "name": "ipython",
    "version": 3
   },
   "file_extension": ".py",
   "mimetype": "text/x-python",
   "name": "python",
   "nbconvert_exporter": "python",
   "pygments_lexer": "ipython3",
   "version": "3.7.12"
  },
  "papermill": {
   "default_parameters": {},
   "duration": 11.465381,
   "end_time": "2022-08-14T23:59:23.967733",
   "environment_variables": {},
   "exception": null,
   "input_path": "__notebook__.ipynb",
   "output_path": "__notebook__.ipynb",
   "parameters": {},
   "start_time": "2022-08-14T23:59:12.502352",
   "version": "2.3.4"
  }
 },
 "nbformat": 4,
 "nbformat_minor": 5
}
