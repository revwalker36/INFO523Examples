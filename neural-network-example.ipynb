{
 "cells": [
  {
   "cell_type": "code",
   "execution_count": 1,
   "id": "5889dbf8",
   "metadata": {
    "_cell_guid": "b1076dfc-b9ad-4769-8c92-a6c4dae69d19",
    "_uuid": "8f2839f25d086af736a60e9eeb907d3b93b6e0e5",
    "execution": {
     "iopub.execute_input": "2022-08-16T00:45:01.443881Z",
     "iopub.status.busy": "2022-08-16T00:45:01.443322Z",
     "iopub.status.idle": "2022-08-16T00:45:01.461848Z",
     "shell.execute_reply": "2022-08-16T00:45:01.459730Z"
    },
    "papermill": {
     "duration": 0.031515,
     "end_time": "2022-08-16T00:45:01.465406",
     "exception": false,
     "start_time": "2022-08-16T00:45:01.433891",
     "status": "completed"
    },
    "tags": []
   },
   "outputs": [
    {
     "name": "stdout",
     "output_type": "stream",
     "text": [
      "/kaggle/input/titanic/train.csv\n",
      "/kaggle/input/titanic/test.csv\n",
      "/kaggle/input/titanic/gender_submission.csv\n"
     ]
    }
   ],
   "source": [
    "# This Python 3 environment comes with many helpful analytics libraries installed\n",
    "# It is defined by the kaggle/python Docker image: https://github.com/kaggle/docker-python\n",
    "# For example, here's several helpful packages to load\n",
    "\n",
    "import numpy as np # linear algebra\n",
    "import pandas as pd # data processing, CSV file I/O (e.g. pd.read_csv)\n",
    "\n",
    "\n",
    "\n",
    "\n",
    "\n",
    "# Input data files are available in the read-only \"../input/\" directory\n",
    "# For example, running this (by clicking run or pressing Shift+Enter) will list all files under the input directory\n",
    "\n",
    "import os\n",
    "for dirname, _, filenames in os.walk('/kaggle/input'):\n",
    "    for filename in filenames:\n",
    "        print(os.path.join(dirname, filename))\n",
    "\n",
    "# You can write up to 20GB to the current directory (/kaggle/working/) that gets preserved as output when you create a version using \"Save & Run All\" \n",
    "# You can also write temporary files to /kaggle/temp/, but they won't be saved outside of the current session"
   ]
  },
  {
   "cell_type": "code",
   "execution_count": 2,
   "id": "3cea32dc",
   "metadata": {
    "execution": {
     "iopub.execute_input": "2022-08-16T00:45:01.484204Z",
     "iopub.status.busy": "2022-08-16T00:45:01.483668Z",
     "iopub.status.idle": "2022-08-16T00:45:02.660502Z",
     "shell.execute_reply": "2022-08-16T00:45:02.658629Z"
    },
    "papermill": {
     "duration": 1.191492,
     "end_time": "2022-08-16T00:45:02.665115",
     "exception": false,
     "start_time": "2022-08-16T00:45:01.473623",
     "status": "completed"
    },
    "tags": []
   },
   "outputs": [],
   "source": [
    "import pandas as pd\n",
    "import numpy as np\n",
    "import seaborn as sns\n",
    "import matplotlib.pyplot as plt\n",
    "%matplotlib inline"
   ]
  },
  {
   "cell_type": "code",
   "execution_count": 3,
   "id": "0ba646c2",
   "metadata": {
    "execution": {
     "iopub.execute_input": "2022-08-16T00:45:02.684018Z",
     "iopub.status.busy": "2022-08-16T00:45:02.683512Z",
     "iopub.status.idle": "2022-08-16T00:45:02.712871Z",
     "shell.execute_reply": "2022-08-16T00:45:02.711662Z"
    },
    "papermill": {
     "duration": 0.04287,
     "end_time": "2022-08-16T00:45:02.716161",
     "exception": false,
     "start_time": "2022-08-16T00:45:02.673291",
     "status": "completed"
    },
    "tags": []
   },
   "outputs": [],
   "source": [
    "#Input data\n",
    "train_data = pd.read_csv('../input/titanic/train.csv')\n",
    "test_data = pd.read_csv('../input/titanic/test.csv')"
   ]
  },
  {
   "cell_type": "code",
   "execution_count": 4,
   "id": "4ce6c2eb",
   "metadata": {
    "execution": {
     "iopub.execute_input": "2022-08-16T00:45:02.732238Z",
     "iopub.status.busy": "2022-08-16T00:45:02.731067Z",
     "iopub.status.idle": "2022-08-16T00:45:02.760862Z",
     "shell.execute_reply": "2022-08-16T00:45:02.759250Z"
    },
    "papermill": {
     "duration": 0.040477,
     "end_time": "2022-08-16T00:45:02.763703",
     "exception": false,
     "start_time": "2022-08-16T00:45:02.723226",
     "status": "completed"
    },
    "tags": []
   },
   "outputs": [
    {
     "data": {
      "text/html": [
       "<div>\n",
       "<style scoped>\n",
       "    .dataframe tbody tr th:only-of-type {\n",
       "        vertical-align: middle;\n",
       "    }\n",
       "\n",
       "    .dataframe tbody tr th {\n",
       "        vertical-align: top;\n",
       "    }\n",
       "\n",
       "    .dataframe thead th {\n",
       "        text-align: right;\n",
       "    }\n",
       "</style>\n",
       "<table border=\"1\" class=\"dataframe\">\n",
       "  <thead>\n",
       "    <tr style=\"text-align: right;\">\n",
       "      <th></th>\n",
       "      <th>PassengerId</th>\n",
       "      <th>Survived</th>\n",
       "      <th>Pclass</th>\n",
       "      <th>Name</th>\n",
       "      <th>Sex</th>\n",
       "      <th>Age</th>\n",
       "      <th>SibSp</th>\n",
       "      <th>Parch</th>\n",
       "      <th>Ticket</th>\n",
       "      <th>Fare</th>\n",
       "      <th>Cabin</th>\n",
       "      <th>Embarked</th>\n",
       "    </tr>\n",
       "  </thead>\n",
       "  <tbody>\n",
       "    <tr>\n",
       "      <th>0</th>\n",
       "      <td>1</td>\n",
       "      <td>0</td>\n",
       "      <td>3</td>\n",
       "      <td>Braund, Mr. Owen Harris</td>\n",
       "      <td>male</td>\n",
       "      <td>22.0</td>\n",
       "      <td>1</td>\n",
       "      <td>0</td>\n",
       "      <td>A/5 21171</td>\n",
       "      <td>7.2500</td>\n",
       "      <td>NaN</td>\n",
       "      <td>S</td>\n",
       "    </tr>\n",
       "    <tr>\n",
       "      <th>1</th>\n",
       "      <td>2</td>\n",
       "      <td>1</td>\n",
       "      <td>1</td>\n",
       "      <td>Cumings, Mrs. John Bradley (Florence Briggs Th...</td>\n",
       "      <td>female</td>\n",
       "      <td>38.0</td>\n",
       "      <td>1</td>\n",
       "      <td>0</td>\n",
       "      <td>PC 17599</td>\n",
       "      <td>71.2833</td>\n",
       "      <td>C85</td>\n",
       "      <td>C</td>\n",
       "    </tr>\n",
       "    <tr>\n",
       "      <th>2</th>\n",
       "      <td>3</td>\n",
       "      <td>1</td>\n",
       "      <td>3</td>\n",
       "      <td>Heikkinen, Miss. Laina</td>\n",
       "      <td>female</td>\n",
       "      <td>26.0</td>\n",
       "      <td>0</td>\n",
       "      <td>0</td>\n",
       "      <td>STON/O2. 3101282</td>\n",
       "      <td>7.9250</td>\n",
       "      <td>NaN</td>\n",
       "      <td>S</td>\n",
       "    </tr>\n",
       "    <tr>\n",
       "      <th>3</th>\n",
       "      <td>4</td>\n",
       "      <td>1</td>\n",
       "      <td>1</td>\n",
       "      <td>Futrelle, Mrs. Jacques Heath (Lily May Peel)</td>\n",
       "      <td>female</td>\n",
       "      <td>35.0</td>\n",
       "      <td>1</td>\n",
       "      <td>0</td>\n",
       "      <td>113803</td>\n",
       "      <td>53.1000</td>\n",
       "      <td>C123</td>\n",
       "      <td>S</td>\n",
       "    </tr>\n",
       "    <tr>\n",
       "      <th>4</th>\n",
       "      <td>5</td>\n",
       "      <td>0</td>\n",
       "      <td>3</td>\n",
       "      <td>Allen, Mr. William Henry</td>\n",
       "      <td>male</td>\n",
       "      <td>35.0</td>\n",
       "      <td>0</td>\n",
       "      <td>0</td>\n",
       "      <td>373450</td>\n",
       "      <td>8.0500</td>\n",
       "      <td>NaN</td>\n",
       "      <td>S</td>\n",
       "    </tr>\n",
       "  </tbody>\n",
       "</table>\n",
       "</div>"
      ],
      "text/plain": [
       "   PassengerId  Survived  Pclass  \\\n",
       "0            1         0       3   \n",
       "1            2         1       1   \n",
       "2            3         1       3   \n",
       "3            4         1       1   \n",
       "4            5         0       3   \n",
       "\n",
       "                                                Name     Sex   Age  SibSp  \\\n",
       "0                            Braund, Mr. Owen Harris    male  22.0      1   \n",
       "1  Cumings, Mrs. John Bradley (Florence Briggs Th...  female  38.0      1   \n",
       "2                             Heikkinen, Miss. Laina  female  26.0      0   \n",
       "3       Futrelle, Mrs. Jacques Heath (Lily May Peel)  female  35.0      1   \n",
       "4                           Allen, Mr. William Henry    male  35.0      0   \n",
       "\n",
       "   Parch            Ticket     Fare Cabin Embarked  \n",
       "0      0         A/5 21171   7.2500   NaN        S  \n",
       "1      0          PC 17599  71.2833   C85        C  \n",
       "2      0  STON/O2. 3101282   7.9250   NaN        S  \n",
       "3      0            113803  53.1000  C123        S  \n",
       "4      0            373450   8.0500   NaN        S  "
      ]
     },
     "execution_count": 4,
     "metadata": {},
     "output_type": "execute_result"
    }
   ],
   "source": [
    "train_data.head()"
   ]
  },
  {
   "cell_type": "code",
   "execution_count": 5,
   "id": "505e282c",
   "metadata": {
    "execution": {
     "iopub.execute_input": "2022-08-16T00:45:02.779379Z",
     "iopub.status.busy": "2022-08-16T00:45:02.778594Z",
     "iopub.status.idle": "2022-08-16T00:45:02.797847Z",
     "shell.execute_reply": "2022-08-16T00:45:02.796234Z"
    },
    "papermill": {
     "duration": 0.030464,
     "end_time": "2022-08-16T00:45:02.800776",
     "exception": false,
     "start_time": "2022-08-16T00:45:02.770312",
     "status": "completed"
    },
    "tags": []
   },
   "outputs": [
    {
     "data": {
      "text/html": [
       "<div>\n",
       "<style scoped>\n",
       "    .dataframe tbody tr th:only-of-type {\n",
       "        vertical-align: middle;\n",
       "    }\n",
       "\n",
       "    .dataframe tbody tr th {\n",
       "        vertical-align: top;\n",
       "    }\n",
       "\n",
       "    .dataframe thead th {\n",
       "        text-align: right;\n",
       "    }\n",
       "</style>\n",
       "<table border=\"1\" class=\"dataframe\">\n",
       "  <thead>\n",
       "    <tr style=\"text-align: right;\">\n",
       "      <th></th>\n",
       "      <th>PassengerId</th>\n",
       "      <th>Pclass</th>\n",
       "      <th>Name</th>\n",
       "      <th>Sex</th>\n",
       "      <th>Age</th>\n",
       "      <th>SibSp</th>\n",
       "      <th>Parch</th>\n",
       "      <th>Ticket</th>\n",
       "      <th>Fare</th>\n",
       "      <th>Cabin</th>\n",
       "      <th>Embarked</th>\n",
       "    </tr>\n",
       "  </thead>\n",
       "  <tbody>\n",
       "    <tr>\n",
       "      <th>0</th>\n",
       "      <td>892</td>\n",
       "      <td>3</td>\n",
       "      <td>Kelly, Mr. James</td>\n",
       "      <td>male</td>\n",
       "      <td>34.5</td>\n",
       "      <td>0</td>\n",
       "      <td>0</td>\n",
       "      <td>330911</td>\n",
       "      <td>7.8292</td>\n",
       "      <td>NaN</td>\n",
       "      <td>Q</td>\n",
       "    </tr>\n",
       "    <tr>\n",
       "      <th>1</th>\n",
       "      <td>893</td>\n",
       "      <td>3</td>\n",
       "      <td>Wilkes, Mrs. James (Ellen Needs)</td>\n",
       "      <td>female</td>\n",
       "      <td>47.0</td>\n",
       "      <td>1</td>\n",
       "      <td>0</td>\n",
       "      <td>363272</td>\n",
       "      <td>7.0000</td>\n",
       "      <td>NaN</td>\n",
       "      <td>S</td>\n",
       "    </tr>\n",
       "    <tr>\n",
       "      <th>2</th>\n",
       "      <td>894</td>\n",
       "      <td>2</td>\n",
       "      <td>Myles, Mr. Thomas Francis</td>\n",
       "      <td>male</td>\n",
       "      <td>62.0</td>\n",
       "      <td>0</td>\n",
       "      <td>0</td>\n",
       "      <td>240276</td>\n",
       "      <td>9.6875</td>\n",
       "      <td>NaN</td>\n",
       "      <td>Q</td>\n",
       "    </tr>\n",
       "    <tr>\n",
       "      <th>3</th>\n",
       "      <td>895</td>\n",
       "      <td>3</td>\n",
       "      <td>Wirz, Mr. Albert</td>\n",
       "      <td>male</td>\n",
       "      <td>27.0</td>\n",
       "      <td>0</td>\n",
       "      <td>0</td>\n",
       "      <td>315154</td>\n",
       "      <td>8.6625</td>\n",
       "      <td>NaN</td>\n",
       "      <td>S</td>\n",
       "    </tr>\n",
       "    <tr>\n",
       "      <th>4</th>\n",
       "      <td>896</td>\n",
       "      <td>3</td>\n",
       "      <td>Hirvonen, Mrs. Alexander (Helga E Lindqvist)</td>\n",
       "      <td>female</td>\n",
       "      <td>22.0</td>\n",
       "      <td>1</td>\n",
       "      <td>1</td>\n",
       "      <td>3101298</td>\n",
       "      <td>12.2875</td>\n",
       "      <td>NaN</td>\n",
       "      <td>S</td>\n",
       "    </tr>\n",
       "  </tbody>\n",
       "</table>\n",
       "</div>"
      ],
      "text/plain": [
       "   PassengerId  Pclass                                          Name     Sex  \\\n",
       "0          892       3                              Kelly, Mr. James    male   \n",
       "1          893       3              Wilkes, Mrs. James (Ellen Needs)  female   \n",
       "2          894       2                     Myles, Mr. Thomas Francis    male   \n",
       "3          895       3                              Wirz, Mr. Albert    male   \n",
       "4          896       3  Hirvonen, Mrs. Alexander (Helga E Lindqvist)  female   \n",
       "\n",
       "    Age  SibSp  Parch   Ticket     Fare Cabin Embarked  \n",
       "0  34.5      0      0   330911   7.8292   NaN        Q  \n",
       "1  47.0      1      0   363272   7.0000   NaN        S  \n",
       "2  62.0      0      0   240276   9.6875   NaN        Q  \n",
       "3  27.0      0      0   315154   8.6625   NaN        S  \n",
       "4  22.0      1      1  3101298  12.2875   NaN        S  "
      ]
     },
     "execution_count": 5,
     "metadata": {},
     "output_type": "execute_result"
    }
   ],
   "source": [
    "test_data.head()"
   ]
  },
  {
   "cell_type": "code",
   "execution_count": 6,
   "id": "61d47bdf",
   "metadata": {
    "execution": {
     "iopub.execute_input": "2022-08-16T00:45:02.817369Z",
     "iopub.status.busy": "2022-08-16T00:45:02.816888Z",
     "iopub.status.idle": "2022-08-16T00:45:02.832168Z",
     "shell.execute_reply": "2022-08-16T00:45:02.830890Z"
    },
    "papermill": {
     "duration": 0.027138,
     "end_time": "2022-08-16T00:45:02.835040",
     "exception": false,
     "start_time": "2022-08-16T00:45:02.807902",
     "status": "completed"
    },
    "tags": []
   },
   "outputs": [],
   "source": [
    "train_data.drop(columns={'Cabin','Name'}, axis = 1, inplace = True)\n",
    "test_data.drop(columns={'Cabin','Name'}, axis = 1, inplace = True)\n"
   ]
  },
  {
   "cell_type": "code",
   "execution_count": 7,
   "id": "93f5746f",
   "metadata": {
    "execution": {
     "iopub.execute_input": "2022-08-16T00:45:02.853113Z",
     "iopub.status.busy": "2022-08-16T00:45:02.851985Z",
     "iopub.status.idle": "2022-08-16T00:45:02.864292Z",
     "shell.execute_reply": "2022-08-16T00:45:02.862761Z"
    },
    "papermill": {
     "duration": 0.024671,
     "end_time": "2022-08-16T00:45:02.867123",
     "exception": false,
     "start_time": "2022-08-16T00:45:02.842452",
     "status": "completed"
    },
    "tags": []
   },
   "outputs": [
    {
     "data": {
      "text/plain": [
       "PassengerId      0\n",
       "Survived         0\n",
       "Pclass           0\n",
       "Sex              0\n",
       "Age            177\n",
       "SibSp            0\n",
       "Parch            0\n",
       "Ticket           0\n",
       "Fare             0\n",
       "Embarked         2\n",
       "dtype: int64"
      ]
     },
     "execution_count": 7,
     "metadata": {},
     "output_type": "execute_result"
    }
   ],
   "source": [
    "train_data.isna().sum()"
   ]
  },
  {
   "cell_type": "code",
   "execution_count": 8,
   "id": "efe885b7",
   "metadata": {
    "execution": {
     "iopub.execute_input": "2022-08-16T00:45:02.883128Z",
     "iopub.status.busy": "2022-08-16T00:45:02.882652Z",
     "iopub.status.idle": "2022-08-16T00:45:02.898801Z",
     "shell.execute_reply": "2022-08-16T00:45:02.897358Z"
    },
    "papermill": {
     "duration": 0.027327,
     "end_time": "2022-08-16T00:45:02.901237",
     "exception": false,
     "start_time": "2022-08-16T00:45:02.873910",
     "status": "completed"
    },
    "tags": []
   },
   "outputs": [
    {
     "data": {
      "text/plain": [
       "PassengerId    0\n",
       "Survived       0\n",
       "Pclass         0\n",
       "Sex            0\n",
       "Age            0\n",
       "SibSp          0\n",
       "Parch          0\n",
       "Ticket         0\n",
       "Fare           0\n",
       "Embarked       2\n",
       "dtype: int64"
      ]
     },
     "execution_count": 8,
     "metadata": {},
     "output_type": "execute_result"
    }
   ],
   "source": [
    "#Encode missing valaues of Age and Fill embarked\n",
    "train_data['Age'].fillna(train_data['Age'].median(),inplace=True)\n",
    "train_data.isna().sum()"
   ]
  },
  {
   "cell_type": "code",
   "execution_count": 9,
   "id": "1e269461",
   "metadata": {
    "execution": {
     "iopub.execute_input": "2022-08-16T00:45:02.918682Z",
     "iopub.status.busy": "2022-08-16T00:45:02.916992Z",
     "iopub.status.idle": "2022-08-16T00:45:02.939235Z",
     "shell.execute_reply": "2022-08-16T00:45:02.937731Z"
    },
    "papermill": {
     "duration": 0.034384,
     "end_time": "2022-08-16T00:45:02.942464",
     "exception": false,
     "start_time": "2022-08-16T00:45:02.908080",
     "status": "completed"
    },
    "tags": []
   },
   "outputs": [
    {
     "data": {
      "text/html": [
       "<div>\n",
       "<style scoped>\n",
       "    .dataframe tbody tr th:only-of-type {\n",
       "        vertical-align: middle;\n",
       "    }\n",
       "\n",
       "    .dataframe tbody tr th {\n",
       "        vertical-align: top;\n",
       "    }\n",
       "\n",
       "    .dataframe thead th {\n",
       "        text-align: right;\n",
       "    }\n",
       "</style>\n",
       "<table border=\"1\" class=\"dataframe\">\n",
       "  <thead>\n",
       "    <tr style=\"text-align: right;\">\n",
       "      <th></th>\n",
       "      <th>PassengerId</th>\n",
       "      <th>Survived</th>\n",
       "      <th>Pclass</th>\n",
       "      <th>Sex</th>\n",
       "      <th>Age</th>\n",
       "      <th>SibSp</th>\n",
       "      <th>Parch</th>\n",
       "      <th>Ticket</th>\n",
       "      <th>Fare</th>\n",
       "      <th>Embarked</th>\n",
       "    </tr>\n",
       "  </thead>\n",
       "  <tbody>\n",
       "    <tr>\n",
       "      <th>0</th>\n",
       "      <td>1</td>\n",
       "      <td>0</td>\n",
       "      <td>3</td>\n",
       "      <td>male</td>\n",
       "      <td>22.0</td>\n",
       "      <td>1</td>\n",
       "      <td>0</td>\n",
       "      <td>A/5 21171</td>\n",
       "      <td>7.2500</td>\n",
       "      <td>S</td>\n",
       "    </tr>\n",
       "    <tr>\n",
       "      <th>1</th>\n",
       "      <td>2</td>\n",
       "      <td>1</td>\n",
       "      <td>1</td>\n",
       "      <td>female</td>\n",
       "      <td>38.0</td>\n",
       "      <td>1</td>\n",
       "      <td>0</td>\n",
       "      <td>PC 17599</td>\n",
       "      <td>71.2833</td>\n",
       "      <td>C</td>\n",
       "    </tr>\n",
       "    <tr>\n",
       "      <th>2</th>\n",
       "      <td>3</td>\n",
       "      <td>1</td>\n",
       "      <td>3</td>\n",
       "      <td>female</td>\n",
       "      <td>26.0</td>\n",
       "      <td>0</td>\n",
       "      <td>0</td>\n",
       "      <td>STON/O2. 3101282</td>\n",
       "      <td>7.9250</td>\n",
       "      <td>S</td>\n",
       "    </tr>\n",
       "    <tr>\n",
       "      <th>3</th>\n",
       "      <td>4</td>\n",
       "      <td>1</td>\n",
       "      <td>1</td>\n",
       "      <td>female</td>\n",
       "      <td>35.0</td>\n",
       "      <td>1</td>\n",
       "      <td>0</td>\n",
       "      <td>113803</td>\n",
       "      <td>53.1000</td>\n",
       "      <td>S</td>\n",
       "    </tr>\n",
       "    <tr>\n",
       "      <th>4</th>\n",
       "      <td>5</td>\n",
       "      <td>0</td>\n",
       "      <td>3</td>\n",
       "      <td>male</td>\n",
       "      <td>35.0</td>\n",
       "      <td>0</td>\n",
       "      <td>0</td>\n",
       "      <td>373450</td>\n",
       "      <td>8.0500</td>\n",
       "      <td>S</td>\n",
       "    </tr>\n",
       "  </tbody>\n",
       "</table>\n",
       "</div>"
      ],
      "text/plain": [
       "   PassengerId  Survived  Pclass     Sex   Age  SibSp  Parch  \\\n",
       "0            1         0       3    male  22.0      1      0   \n",
       "1            2         1       1  female  38.0      1      0   \n",
       "2            3         1       3  female  26.0      0      0   \n",
       "3            4         1       1  female  35.0      1      0   \n",
       "4            5         0       3    male  35.0      0      0   \n",
       "\n",
       "             Ticket     Fare Embarked  \n",
       "0         A/5 21171   7.2500        S  \n",
       "1          PC 17599  71.2833        C  \n",
       "2  STON/O2. 3101282   7.9250        S  \n",
       "3            113803  53.1000        S  \n",
       "4            373450   8.0500        S  "
      ]
     },
     "execution_count": 9,
     "metadata": {},
     "output_type": "execute_result"
    }
   ],
   "source": [
    "train_data.head()"
   ]
  },
  {
   "cell_type": "code",
   "execution_count": 10,
   "id": "1ee9ddf0",
   "metadata": {
    "execution": {
     "iopub.execute_input": "2022-08-16T00:45:02.962213Z",
     "iopub.status.busy": "2022-08-16T00:45:02.960683Z",
     "iopub.status.idle": "2022-08-16T00:45:02.976332Z",
     "shell.execute_reply": "2022-08-16T00:45:02.974408Z"
    },
    "papermill": {
     "duration": 0.028658,
     "end_time": "2022-08-16T00:45:02.979634",
     "exception": false,
     "start_time": "2022-08-16T00:45:02.950976",
     "status": "completed"
    },
    "tags": []
   },
   "outputs": [
    {
     "data": {
      "text/plain": [
       "PassengerId    0\n",
       "Survived       0\n",
       "Pclass         0\n",
       "Sex            0\n",
       "Age            0\n",
       "SibSp          0\n",
       "Parch          0\n",
       "Ticket         0\n",
       "Fare           0\n",
       "Embarked       0\n",
       "dtype: int64"
      ]
     },
     "execution_count": 10,
     "metadata": {},
     "output_type": "execute_result"
    }
   ],
   "source": [
    "train_data['Embarked'].fillna('S',inplace=True)\n",
    "train_data.isna().sum()"
   ]
  },
  {
   "cell_type": "code",
   "execution_count": 11,
   "id": "2d8ccb75",
   "metadata": {
    "execution": {
     "iopub.execute_input": "2022-08-16T00:45:02.997920Z",
     "iopub.status.busy": "2022-08-16T00:45:02.996825Z",
     "iopub.status.idle": "2022-08-16T00:45:03.016184Z",
     "shell.execute_reply": "2022-08-16T00:45:03.014913Z"
    },
    "papermill": {
     "duration": 0.031022,
     "end_time": "2022-08-16T00:45:03.018714",
     "exception": false,
     "start_time": "2022-08-16T00:45:02.987692",
     "status": "completed"
    },
    "tags": []
   },
   "outputs": [
    {
     "data": {
      "text/html": [
       "<div>\n",
       "<style scoped>\n",
       "    .dataframe tbody tr th:only-of-type {\n",
       "        vertical-align: middle;\n",
       "    }\n",
       "\n",
       "    .dataframe tbody tr th {\n",
       "        vertical-align: top;\n",
       "    }\n",
       "\n",
       "    .dataframe thead th {\n",
       "        text-align: right;\n",
       "    }\n",
       "</style>\n",
       "<table border=\"1\" class=\"dataframe\">\n",
       "  <thead>\n",
       "    <tr style=\"text-align: right;\">\n",
       "      <th></th>\n",
       "      <th>PassengerId</th>\n",
       "      <th>Survived</th>\n",
       "      <th>Pclass</th>\n",
       "      <th>Sex</th>\n",
       "      <th>Age</th>\n",
       "      <th>SibSp</th>\n",
       "      <th>Parch</th>\n",
       "      <th>Ticket</th>\n",
       "      <th>Fare</th>\n",
       "      <th>Embarked</th>\n",
       "    </tr>\n",
       "  </thead>\n",
       "  <tbody>\n",
       "    <tr>\n",
       "      <th>0</th>\n",
       "      <td>1</td>\n",
       "      <td>0</td>\n",
       "      <td>3</td>\n",
       "      <td>male</td>\n",
       "      <td>22.0</td>\n",
       "      <td>1</td>\n",
       "      <td>0</td>\n",
       "      <td>A/5 21171</td>\n",
       "      <td>7.2500</td>\n",
       "      <td>S</td>\n",
       "    </tr>\n",
       "    <tr>\n",
       "      <th>1</th>\n",
       "      <td>2</td>\n",
       "      <td>1</td>\n",
       "      <td>1</td>\n",
       "      <td>female</td>\n",
       "      <td>38.0</td>\n",
       "      <td>1</td>\n",
       "      <td>0</td>\n",
       "      <td>PC 17599</td>\n",
       "      <td>71.2833</td>\n",
       "      <td>C</td>\n",
       "    </tr>\n",
       "    <tr>\n",
       "      <th>2</th>\n",
       "      <td>3</td>\n",
       "      <td>1</td>\n",
       "      <td>3</td>\n",
       "      <td>female</td>\n",
       "      <td>26.0</td>\n",
       "      <td>0</td>\n",
       "      <td>0</td>\n",
       "      <td>STON/O2. 3101282</td>\n",
       "      <td>7.9250</td>\n",
       "      <td>S</td>\n",
       "    </tr>\n",
       "    <tr>\n",
       "      <th>3</th>\n",
       "      <td>4</td>\n",
       "      <td>1</td>\n",
       "      <td>1</td>\n",
       "      <td>female</td>\n",
       "      <td>35.0</td>\n",
       "      <td>1</td>\n",
       "      <td>0</td>\n",
       "      <td>113803</td>\n",
       "      <td>53.1000</td>\n",
       "      <td>S</td>\n",
       "    </tr>\n",
       "    <tr>\n",
       "      <th>4</th>\n",
       "      <td>5</td>\n",
       "      <td>0</td>\n",
       "      <td>3</td>\n",
       "      <td>male</td>\n",
       "      <td>35.0</td>\n",
       "      <td>0</td>\n",
       "      <td>0</td>\n",
       "      <td>373450</td>\n",
       "      <td>8.0500</td>\n",
       "      <td>S</td>\n",
       "    </tr>\n",
       "  </tbody>\n",
       "</table>\n",
       "</div>"
      ],
      "text/plain": [
       "   PassengerId  Survived  Pclass     Sex   Age  SibSp  Parch  \\\n",
       "0            1         0       3    male  22.0      1      0   \n",
       "1            2         1       1  female  38.0      1      0   \n",
       "2            3         1       3  female  26.0      0      0   \n",
       "3            4         1       1  female  35.0      1      0   \n",
       "4            5         0       3    male  35.0      0      0   \n",
       "\n",
       "             Ticket     Fare Embarked  \n",
       "0         A/5 21171   7.2500        S  \n",
       "1          PC 17599  71.2833        C  \n",
       "2  STON/O2. 3101282   7.9250        S  \n",
       "3            113803  53.1000        S  \n",
       "4            373450   8.0500        S  "
      ]
     },
     "execution_count": 11,
     "metadata": {},
     "output_type": "execute_result"
    }
   ],
   "source": [
    "train_data.head()"
   ]
  },
  {
   "cell_type": "markdown",
   "id": "d1576ed2",
   "metadata": {
    "papermill": {
     "duration": 0.00728,
     "end_time": "2022-08-16T00:45:03.034025",
     "exception": false,
     "start_time": "2022-08-16T00:45:03.026745",
     "status": "completed"
    },
    "tags": []
   },
   "source": [
    "**Change all characters into integers**"
   ]
  },
  {
   "cell_type": "code",
   "execution_count": 12,
   "id": "a0827d71",
   "metadata": {
    "execution": {
     "iopub.execute_input": "2022-08-16T00:45:03.052090Z",
     "iopub.status.busy": "2022-08-16T00:45:03.051601Z",
     "iopub.status.idle": "2022-08-16T00:45:03.078445Z",
     "shell.execute_reply": "2022-08-16T00:45:03.077603Z"
    },
    "papermill": {
     "duration": 0.040297,
     "end_time": "2022-08-16T00:45:03.082213",
     "exception": false,
     "start_time": "2022-08-16T00:45:03.041916",
     "status": "completed"
    },
    "tags": []
   },
   "outputs": [
    {
     "name": "stdout",
     "output_type": "stream",
     "text": [
      "<class 'pandas.core.frame.DataFrame'>\n",
      "RangeIndex: 891 entries, 0 to 890\n",
      "Data columns (total 10 columns):\n",
      " #   Column       Non-Null Count  Dtype  \n",
      "---  ------       --------------  -----  \n",
      " 0   PassengerId  891 non-null    int64  \n",
      " 1   Survived     891 non-null    int64  \n",
      " 2   Pclass       891 non-null    int64  \n",
      " 3   Sex          891 non-null    object \n",
      " 4   Age          891 non-null    float64\n",
      " 5   SibSp        891 non-null    int64  \n",
      " 6   Parch        891 non-null    int64  \n",
      " 7   Ticket       891 non-null    object \n",
      " 8   Fare         891 non-null    float64\n",
      " 9   Embarked     891 non-null    int64  \n",
      "dtypes: float64(2), int64(6), object(2)\n",
      "memory usage: 69.7+ KB\n"
     ]
    }
   ],
   "source": [
    "change = {'S':1,'C':2,'Q':0}\n",
    "train_data.Embarked = train_data.Embarked.map(change)\n",
    "test_data.Embarked = test_data.Embarked.map(change)\n",
    "train_data.info()"
   ]
  },
  {
   "cell_type": "code",
   "execution_count": 13,
   "id": "25436d46",
   "metadata": {
    "execution": {
     "iopub.execute_input": "2022-08-16T00:45:03.103077Z",
     "iopub.status.busy": "2022-08-16T00:45:03.101603Z",
     "iopub.status.idle": "2022-08-16T00:45:03.119335Z",
     "shell.execute_reply": "2022-08-16T00:45:03.117409Z"
    },
    "papermill": {
     "duration": 0.031041,
     "end_time": "2022-08-16T00:45:03.122379",
     "exception": false,
     "start_time": "2022-08-16T00:45:03.091338",
     "status": "completed"
    },
    "tags": []
   },
   "outputs": [
    {
     "name": "stdout",
     "output_type": "stream",
     "text": [
      "<class 'pandas.core.frame.DataFrame'>\n",
      "RangeIndex: 418 entries, 0 to 417\n",
      "Data columns (total 9 columns):\n",
      " #   Column       Non-Null Count  Dtype  \n",
      "---  ------       --------------  -----  \n",
      " 0   PassengerId  418 non-null    int64  \n",
      " 1   Pclass       418 non-null    int64  \n",
      " 2   Sex          418 non-null    int64  \n",
      " 3   Age          332 non-null    float64\n",
      " 4   SibSp        418 non-null    int64  \n",
      " 5   Parch        418 non-null    int64  \n",
      " 6   Ticket       418 non-null    object \n",
      " 7   Fare         417 non-null    float64\n",
      " 8   Embarked     418 non-null    int64  \n",
      "dtypes: float64(2), int64(6), object(1)\n",
      "memory usage: 29.5+ KB\n"
     ]
    }
   ],
   "source": [
    "train_data.Sex = train_data.Sex.map({'male':0, 'female':1})\n",
    "test_data.Sex = test_data.Sex.map({'male':0, 'female':1})\n",
    "test_data.info()\n"
   ]
  },
  {
   "cell_type": "code",
   "execution_count": 14,
   "id": "d681cbac",
   "metadata": {
    "execution": {
     "iopub.execute_input": "2022-08-16T00:45:03.142176Z",
     "iopub.status.busy": "2022-08-16T00:45:03.140989Z",
     "iopub.status.idle": "2022-08-16T00:45:03.147283Z",
     "shell.execute_reply": "2022-08-16T00:45:03.146464Z"
    },
    "papermill": {
     "duration": 0.019364,
     "end_time": "2022-08-16T00:45:03.150376",
     "exception": false,
     "start_time": "2022-08-16T00:45:03.131012",
     "status": "completed"
    },
    "tags": []
   },
   "outputs": [],
   "source": [
    "train_data = train_data.drop(columns={'Ticket'},axis = 1)"
   ]
  },
  {
   "cell_type": "code",
   "execution_count": 15,
   "id": "aa3e1fdd",
   "metadata": {
    "execution": {
     "iopub.execute_input": "2022-08-16T00:45:03.171191Z",
     "iopub.status.busy": "2022-08-16T00:45:03.170771Z",
     "iopub.status.idle": "2022-08-16T00:45:03.177607Z",
     "shell.execute_reply": "2022-08-16T00:45:03.176543Z"
    },
    "papermill": {
     "duration": 0.019296,
     "end_time": "2022-08-16T00:45:03.180279",
     "exception": false,
     "start_time": "2022-08-16T00:45:03.160983",
     "status": "completed"
    },
    "tags": []
   },
   "outputs": [],
   "source": [
    "test_data = test_data.drop(columns={'Ticket'},axis = 1)"
   ]
  },
  {
   "cell_type": "code",
   "execution_count": 16,
   "id": "e2295513",
   "metadata": {
    "execution": {
     "iopub.execute_input": "2022-08-16T00:45:03.200940Z",
     "iopub.status.busy": "2022-08-16T00:45:03.199628Z",
     "iopub.status.idle": "2022-08-16T00:45:03.213092Z",
     "shell.execute_reply": "2022-08-16T00:45:03.211275Z"
    },
    "papermill": {
     "duration": 0.027385,
     "end_time": "2022-08-16T00:45:03.217081",
     "exception": false,
     "start_time": "2022-08-16T00:45:03.189696",
     "status": "completed"
    },
    "tags": []
   },
   "outputs": [
    {
     "name": "stdout",
     "output_type": "stream",
     "text": [
      "shape of X_train (891, 7)\n",
      "Shape of Y_train (891,)\n",
      "Shape of x_test (418, 7)\n"
     ]
    }
   ],
   "source": [
    "X_train = train_data.drop(columns={\"Survived\",'PassengerId'}, axis=1)\n",
    "Y_train = train_data[\"Survived\"]\n",
    "X_test = test_data.drop(\"PassengerId\", axis = 1)\n",
    "print(\"shape of X_train\",X_train.shape)\n",
    "print(\"Shape of Y_train\",Y_train.shape)\n",
    "print(\"Shape of x_test\",X_test.shape)"
   ]
  },
  {
   "cell_type": "code",
   "execution_count": 17,
   "id": "d3eba3be",
   "metadata": {
    "execution": {
     "iopub.execute_input": "2022-08-16T00:45:03.237059Z",
     "iopub.status.busy": "2022-08-16T00:45:03.236629Z",
     "iopub.status.idle": "2022-08-16T00:45:03.258768Z",
     "shell.execute_reply": "2022-08-16T00:45:03.257084Z"
    },
    "papermill": {
     "duration": 0.035294,
     "end_time": "2022-08-16T00:45:03.261666",
     "exception": false,
     "start_time": "2022-08-16T00:45:03.226372",
     "status": "completed"
    },
    "tags": []
   },
   "outputs": [
    {
     "data": {
      "text/html": [
       "<div>\n",
       "<style scoped>\n",
       "    .dataframe tbody tr th:only-of-type {\n",
       "        vertical-align: middle;\n",
       "    }\n",
       "\n",
       "    .dataframe tbody tr th {\n",
       "        vertical-align: top;\n",
       "    }\n",
       "\n",
       "    .dataframe thead th {\n",
       "        text-align: right;\n",
       "    }\n",
       "</style>\n",
       "<table border=\"1\" class=\"dataframe\">\n",
       "  <thead>\n",
       "    <tr style=\"text-align: right;\">\n",
       "      <th></th>\n",
       "      <th>Pclass</th>\n",
       "      <th>Sex</th>\n",
       "      <th>Age</th>\n",
       "      <th>SibSp</th>\n",
       "      <th>Parch</th>\n",
       "      <th>Fare</th>\n",
       "      <th>Embarked</th>\n",
       "    </tr>\n",
       "  </thead>\n",
       "  <tbody>\n",
       "    <tr>\n",
       "      <th>0</th>\n",
       "      <td>3</td>\n",
       "      <td>0</td>\n",
       "      <td>22.0</td>\n",
       "      <td>1</td>\n",
       "      <td>0</td>\n",
       "      <td>7.2500</td>\n",
       "      <td>1</td>\n",
       "    </tr>\n",
       "    <tr>\n",
       "      <th>1</th>\n",
       "      <td>1</td>\n",
       "      <td>1</td>\n",
       "      <td>38.0</td>\n",
       "      <td>1</td>\n",
       "      <td>0</td>\n",
       "      <td>71.2833</td>\n",
       "      <td>2</td>\n",
       "    </tr>\n",
       "    <tr>\n",
       "      <th>2</th>\n",
       "      <td>3</td>\n",
       "      <td>1</td>\n",
       "      <td>26.0</td>\n",
       "      <td>0</td>\n",
       "      <td>0</td>\n",
       "      <td>7.9250</td>\n",
       "      <td>1</td>\n",
       "    </tr>\n",
       "    <tr>\n",
       "      <th>3</th>\n",
       "      <td>1</td>\n",
       "      <td>1</td>\n",
       "      <td>35.0</td>\n",
       "      <td>1</td>\n",
       "      <td>0</td>\n",
       "      <td>53.1000</td>\n",
       "      <td>1</td>\n",
       "    </tr>\n",
       "    <tr>\n",
       "      <th>4</th>\n",
       "      <td>3</td>\n",
       "      <td>0</td>\n",
       "      <td>35.0</td>\n",
       "      <td>0</td>\n",
       "      <td>0</td>\n",
       "      <td>8.0500</td>\n",
       "      <td>1</td>\n",
       "    </tr>\n",
       "    <tr>\n",
       "      <th>...</th>\n",
       "      <td>...</td>\n",
       "      <td>...</td>\n",
       "      <td>...</td>\n",
       "      <td>...</td>\n",
       "      <td>...</td>\n",
       "      <td>...</td>\n",
       "      <td>...</td>\n",
       "    </tr>\n",
       "    <tr>\n",
       "      <th>886</th>\n",
       "      <td>2</td>\n",
       "      <td>0</td>\n",
       "      <td>27.0</td>\n",
       "      <td>0</td>\n",
       "      <td>0</td>\n",
       "      <td>13.0000</td>\n",
       "      <td>1</td>\n",
       "    </tr>\n",
       "    <tr>\n",
       "      <th>887</th>\n",
       "      <td>1</td>\n",
       "      <td>1</td>\n",
       "      <td>19.0</td>\n",
       "      <td>0</td>\n",
       "      <td>0</td>\n",
       "      <td>30.0000</td>\n",
       "      <td>1</td>\n",
       "    </tr>\n",
       "    <tr>\n",
       "      <th>888</th>\n",
       "      <td>3</td>\n",
       "      <td>1</td>\n",
       "      <td>28.0</td>\n",
       "      <td>1</td>\n",
       "      <td>2</td>\n",
       "      <td>23.4500</td>\n",
       "      <td>1</td>\n",
       "    </tr>\n",
       "    <tr>\n",
       "      <th>889</th>\n",
       "      <td>1</td>\n",
       "      <td>0</td>\n",
       "      <td>26.0</td>\n",
       "      <td>0</td>\n",
       "      <td>0</td>\n",
       "      <td>30.0000</td>\n",
       "      <td>2</td>\n",
       "    </tr>\n",
       "    <tr>\n",
       "      <th>890</th>\n",
       "      <td>3</td>\n",
       "      <td>0</td>\n",
       "      <td>32.0</td>\n",
       "      <td>0</td>\n",
       "      <td>0</td>\n",
       "      <td>7.7500</td>\n",
       "      <td>0</td>\n",
       "    </tr>\n",
       "  </tbody>\n",
       "</table>\n",
       "<p>891 rows × 7 columns</p>\n",
       "</div>"
      ],
      "text/plain": [
       "     Pclass  Sex   Age  SibSp  Parch     Fare  Embarked\n",
       "0         3    0  22.0      1      0   7.2500         1\n",
       "1         1    1  38.0      1      0  71.2833         2\n",
       "2         3    1  26.0      0      0   7.9250         1\n",
       "3         1    1  35.0      1      0  53.1000         1\n",
       "4         3    0  35.0      0      0   8.0500         1\n",
       "..      ...  ...   ...    ...    ...      ...       ...\n",
       "886       2    0  27.0      0      0  13.0000         1\n",
       "887       1    1  19.0      0      0  30.0000         1\n",
       "888       3    1  28.0      1      2  23.4500         1\n",
       "889       1    0  26.0      0      0  30.0000         2\n",
       "890       3    0  32.0      0      0   7.7500         0\n",
       "\n",
       "[891 rows x 7 columns]"
      ]
     },
     "execution_count": 17,
     "metadata": {},
     "output_type": "execute_result"
    }
   ],
   "source": [
    "X_train"
   ]
  },
  {
   "cell_type": "code",
   "execution_count": 18,
   "id": "cf1d3507",
   "metadata": {
    "execution": {
     "iopub.execute_input": "2022-08-16T00:45:03.283506Z",
     "iopub.status.busy": "2022-08-16T00:45:03.282194Z",
     "iopub.status.idle": "2022-08-16T00:45:09.344003Z",
     "shell.execute_reply": "2022-08-16T00:45:09.342618Z"
    },
    "papermill": {
     "duration": 6.075757,
     "end_time": "2022-08-16T00:45:09.347372",
     "exception": false,
     "start_time": "2022-08-16T00:45:03.271615",
     "status": "completed"
    },
    "tags": []
   },
   "outputs": [],
   "source": [
    "import tensorflow as tf\n",
    "import keras \n",
    "from keras.layers import Dense, Dropout, Input\n",
    "from keras.models import Sequential"
   ]
  },
  {
   "cell_type": "code",
   "execution_count": 19,
   "id": "765745d2",
   "metadata": {
    "execution": {
     "iopub.execute_input": "2022-08-16T00:45:09.367935Z",
     "iopub.status.busy": "2022-08-16T00:45:09.367268Z",
     "iopub.status.idle": "2022-08-16T00:45:10.032223Z",
     "shell.execute_reply": "2022-08-16T00:45:10.030529Z"
    },
    "papermill": {
     "duration": 0.678395,
     "end_time": "2022-08-16T00:45:10.035610",
     "exception": false,
     "start_time": "2022-08-16T00:45:09.357215",
     "status": "completed"
    },
    "tags": []
   },
   "outputs": [
    {
     "name": "stderr",
     "output_type": "stream",
     "text": [
      "2022-08-16 00:45:09.407361: I tensorflow/core/common_runtime/process_util.cc:146] Creating new thread pool with default inter op setting: 2. Tune using inter_op_parallelism_threads for best performance.\n"
     ]
    }
   ],
   "source": [
    "model = Sequential()\n",
    "model.add(Dense(units = 32, input_shape = (7,), activation = 'relu'))\n",
    "model.add(Dense(units = 64, activation = 'relu', kernel_initializer = 'he_normal', use_bias = False))\n",
    "model.add(tf.keras.layers.BatchNormalization())\n",
    "model.add(Dense(units = 128, activation = 'relu',kernel_initializer = 'he_normal', use_bias = False))\n",
    "model.add(Dropout(0.1))\n",
    "model.add(Dense(units = 64, activation = 'relu',kernel_initializer = 'he_normal', use_bias = False))\n",
    "model.add(Dropout(0.1))\n",
    "model.add(Dense(units = 32, activation = 'relu'))\n",
    "model.add(Dropout(0.15))\n",
    "model.add(Dense(units = 16, activation = 'relu'))\n",
    "model.add(Dense(units = 8, activation = 'relu',kernel_initializer = 'he_normal', use_bias = False))\n",
    "model.add(Dense(units =1 , activation = 'sigmoid'))"
   ]
  },
  {
   "cell_type": "code",
   "execution_count": 20,
   "id": "a1afd3ff",
   "metadata": {
    "execution": {
     "iopub.execute_input": "2022-08-16T00:45:10.055018Z",
     "iopub.status.busy": "2022-08-16T00:45:10.054166Z",
     "iopub.status.idle": "2022-08-16T00:45:10.062071Z",
     "shell.execute_reply": "2022-08-16T00:45:10.060639Z"
    },
    "papermill": {
     "duration": 0.022907,
     "end_time": "2022-08-16T00:45:10.067183",
     "exception": false,
     "start_time": "2022-08-16T00:45:10.044276",
     "status": "completed"
    },
    "tags": []
   },
   "outputs": [
    {
     "name": "stdout",
     "output_type": "stream",
     "text": [
      "Model: \"sequential\"\n",
      "_________________________________________________________________\n",
      "Layer (type)                 Output Shape              Param #   \n",
      "=================================================================\n",
      "dense (Dense)                (None, 32)                256       \n",
      "_________________________________________________________________\n",
      "dense_1 (Dense)              (None, 64)                2048      \n",
      "_________________________________________________________________\n",
      "batch_normalization (BatchNo (None, 64)                256       \n",
      "_________________________________________________________________\n",
      "dense_2 (Dense)              (None, 128)               8192      \n",
      "_________________________________________________________________\n",
      "dropout (Dropout)            (None, 128)               0         \n",
      "_________________________________________________________________\n",
      "dense_3 (Dense)              (None, 64)                8192      \n",
      "_________________________________________________________________\n",
      "dropout_1 (Dropout)          (None, 64)                0         \n",
      "_________________________________________________________________\n",
      "dense_4 (Dense)              (None, 32)                2080      \n",
      "_________________________________________________________________\n",
      "dropout_2 (Dropout)          (None, 32)                0         \n",
      "_________________________________________________________________\n",
      "dense_5 (Dense)              (None, 16)                528       \n",
      "_________________________________________________________________\n",
      "dense_6 (Dense)              (None, 8)                 128       \n",
      "_________________________________________________________________\n",
      "dense_7 (Dense)              (None, 1)                 9         \n",
      "=================================================================\n",
      "Total params: 21,689\n",
      "Trainable params: 21,561\n",
      "Non-trainable params: 128\n",
      "_________________________________________________________________\n"
     ]
    }
   ],
   "source": [
    "model.summary()\n"
   ]
  },
  {
   "cell_type": "code",
   "execution_count": 21,
   "id": "ee3f5e92",
   "metadata": {
    "execution": {
     "iopub.execute_input": "2022-08-16T00:45:10.087325Z",
     "iopub.status.busy": "2022-08-16T00:45:10.086907Z",
     "iopub.status.idle": "2022-08-16T00:45:21.572965Z",
     "shell.execute_reply": "2022-08-16T00:45:21.571420Z"
    },
    "papermill": {
     "duration": 11.500112,
     "end_time": "2022-08-16T00:45:21.576115",
     "exception": false,
     "start_time": "2022-08-16T00:45:10.076003",
     "status": "completed"
    },
    "tags": []
   },
   "outputs": [
    {
     "name": "stdout",
     "output_type": "stream",
     "text": [
      "Epoch 1/75\n"
     ]
    },
    {
     "name": "stderr",
     "output_type": "stream",
     "text": [
      "2022-08-16 00:45:10.184538: I tensorflow/compiler/mlir/mlir_graph_optimization_pass.cc:185] None of the MLIR Optimization Passes are enabled (registered 2)\n"
     ]
    },
    {
     "name": "stdout",
     "output_type": "stream",
     "text": [
      "28/28 - 1s - loss: 0.6978 - acc: 0.5264\n",
      "Epoch 2/75\n",
      "28/28 - 0s - loss: 0.6386 - acc: 0.6633\n",
      "Epoch 3/75\n",
      "28/28 - 0s - loss: 0.6286 - acc: 0.6655\n",
      "Epoch 4/75\n",
      "28/28 - 0s - loss: 0.6083 - acc: 0.6734\n",
      "Epoch 5/75\n",
      "28/28 - 0s - loss: 0.5922 - acc: 0.6813\n",
      "Epoch 6/75\n",
      "28/28 - 0s - loss: 0.5694 - acc: 0.7228\n",
      "Epoch 7/75\n",
      "28/28 - 0s - loss: 0.5715 - acc: 0.7015\n",
      "Epoch 8/75\n",
      "28/28 - 0s - loss: 0.5821 - acc: 0.7048\n",
      "Epoch 9/75\n",
      "28/28 - 0s - loss: 0.5498 - acc: 0.7318\n",
      "Epoch 10/75\n",
      "28/28 - 0s - loss: 0.5285 - acc: 0.7486\n",
      "Epoch 11/75\n",
      "28/28 - 0s - loss: 0.5243 - acc: 0.7531\n",
      "Epoch 12/75\n",
      "28/28 - 0s - loss: 0.5191 - acc: 0.7677\n",
      "Epoch 13/75\n",
      "28/28 - 0s - loss: 0.5047 - acc: 0.7677\n",
      "Epoch 14/75\n",
      "28/28 - 0s - loss: 0.4861 - acc: 0.7778\n",
      "Epoch 15/75\n",
      "28/28 - 0s - loss: 0.4637 - acc: 0.7969\n",
      "Epoch 16/75\n",
      "28/28 - 0s - loss: 0.4703 - acc: 0.7912\n",
      "Epoch 17/75\n",
      "28/28 - 0s - loss: 0.4711 - acc: 0.7789\n",
      "Epoch 18/75\n",
      "28/28 - 0s - loss: 0.4745 - acc: 0.7924\n",
      "Epoch 19/75\n",
      "28/28 - 0s - loss: 0.4567 - acc: 0.7935\n",
      "Epoch 20/75\n",
      "28/28 - 0s - loss: 0.4589 - acc: 0.7969\n",
      "Epoch 21/75\n",
      "28/28 - 0s - loss: 0.4601 - acc: 0.7969\n",
      "Epoch 22/75\n",
      "28/28 - 0s - loss: 0.4456 - acc: 0.7924\n",
      "Epoch 23/75\n",
      "28/28 - 0s - loss: 0.4545 - acc: 0.8025\n",
      "Epoch 24/75\n",
      "28/28 - 0s - loss: 0.4605 - acc: 0.7957\n",
      "Epoch 25/75\n",
      "28/28 - 0s - loss: 0.4494 - acc: 0.8002\n",
      "Epoch 26/75\n",
      "28/28 - 0s - loss: 0.4461 - acc: 0.8103\n",
      "Epoch 27/75\n",
      "28/28 - 0s - loss: 0.4368 - acc: 0.8081\n",
      "Epoch 28/75\n",
      "28/28 - 0s - loss: 0.4212 - acc: 0.8249\n",
      "Epoch 29/75\n",
      "28/28 - 0s - loss: 0.4389 - acc: 0.8002\n",
      "Epoch 30/75\n",
      "28/28 - 0s - loss: 0.4391 - acc: 0.8148\n",
      "Epoch 31/75\n",
      "28/28 - 0s - loss: 0.4301 - acc: 0.8081\n",
      "Epoch 32/75\n",
      "28/28 - 0s - loss: 0.4524 - acc: 0.7969\n",
      "Epoch 33/75\n",
      "28/28 - 0s - loss: 0.4405 - acc: 0.8013\n",
      "Epoch 34/75\n",
      "28/28 - 0s - loss: 0.4336 - acc: 0.8092\n",
      "Epoch 35/75\n",
      "28/28 - 0s - loss: 0.4407 - acc: 0.8092\n",
      "Epoch 36/75\n",
      "28/28 - 0s - loss: 0.4458 - acc: 0.8058\n",
      "Epoch 37/75\n",
      "28/28 - 0s - loss: 0.4320 - acc: 0.8148\n",
      "Epoch 38/75\n",
      "28/28 - 0s - loss: 0.4251 - acc: 0.8103\n",
      "Epoch 39/75\n",
      "28/28 - 0s - loss: 0.4363 - acc: 0.8137\n",
      "Epoch 40/75\n",
      "28/28 - 0s - loss: 0.4213 - acc: 0.8148\n",
      "Epoch 41/75\n",
      "28/28 - 0s - loss: 0.4130 - acc: 0.8215\n",
      "Epoch 42/75\n",
      "28/28 - 0s - loss: 0.4340 - acc: 0.8171\n",
      "Epoch 43/75\n",
      "28/28 - 0s - loss: 0.4311 - acc: 0.8081\n",
      "Epoch 44/75\n",
      "28/28 - 0s - loss: 0.4256 - acc: 0.8103\n",
      "Epoch 45/75\n",
      "28/28 - 0s - loss: 0.4232 - acc: 0.8092\n",
      "Epoch 46/75\n",
      "28/28 - 0s - loss: 0.4214 - acc: 0.8137\n",
      "Epoch 47/75\n",
      "28/28 - 0s - loss: 0.4185 - acc: 0.8193\n",
      "Epoch 48/75\n",
      "28/28 - 0s - loss: 0.4003 - acc: 0.8215\n",
      "Epoch 49/75\n",
      "28/28 - 0s - loss: 0.4189 - acc: 0.8215\n",
      "Epoch 50/75\n",
      "28/28 - 0s - loss: 0.4343 - acc: 0.8103\n",
      "Epoch 51/75\n",
      "28/28 - 0s - loss: 0.4226 - acc: 0.8159\n",
      "Epoch 52/75\n",
      "28/28 - 0s - loss: 0.4086 - acc: 0.8204\n",
      "Epoch 53/75\n",
      "28/28 - 0s - loss: 0.4168 - acc: 0.8114\n",
      "Epoch 54/75\n",
      "28/28 - 0s - loss: 0.4224 - acc: 0.8215\n",
      "Epoch 55/75\n",
      "28/28 - 0s - loss: 0.4130 - acc: 0.8148\n",
      "Epoch 56/75\n",
      "28/28 - 0s - loss: 0.4193 - acc: 0.8126\n",
      "Epoch 57/75\n",
      "28/28 - 0s - loss: 0.3992 - acc: 0.8204\n",
      "Epoch 58/75\n",
      "28/28 - 0s - loss: 0.4149 - acc: 0.8238\n",
      "Epoch 59/75\n",
      "28/28 - 0s - loss: 0.4219 - acc: 0.8137\n",
      "Epoch 60/75\n",
      "28/28 - 0s - loss: 0.4105 - acc: 0.8283\n",
      "Epoch 61/75\n",
      "28/28 - 0s - loss: 0.4160 - acc: 0.8272\n",
      "Epoch 62/75\n",
      "28/28 - 0s - loss: 0.4531 - acc: 0.7924\n",
      "Epoch 63/75\n",
      "28/28 - 0s - loss: 0.4218 - acc: 0.8204\n",
      "Epoch 64/75\n",
      "28/28 - 0s - loss: 0.4286 - acc: 0.8193\n",
      "Epoch 65/75\n",
      "28/28 - 0s - loss: 0.4242 - acc: 0.8058\n",
      "Epoch 66/75\n",
      "28/28 - 0s - loss: 0.4292 - acc: 0.8137\n",
      "Epoch 67/75\n",
      "28/28 - 0s - loss: 0.4332 - acc: 0.8058\n",
      "Epoch 68/75\n",
      "28/28 - 0s - loss: 0.4290 - acc: 0.8092\n",
      "Epoch 69/75\n",
      "28/28 - 0s - loss: 0.4276 - acc: 0.8193\n",
      "Epoch 70/75\n",
      "28/28 - 0s - loss: 0.4458 - acc: 0.7969\n",
      "Epoch 71/75\n",
      "28/28 - 0s - loss: 0.4365 - acc: 0.8137\n",
      "Epoch 72/75\n",
      "28/28 - 0s - loss: 0.4224 - acc: 0.8193\n",
      "Epoch 73/75\n",
      "28/28 - 0s - loss: 0.4210 - acc: 0.8182\n",
      "Epoch 74/75\n",
      "28/28 - 0s - loss: 0.4223 - acc: 0.8013\n",
      "Epoch 75/75\n",
      "28/28 - 0s - loss: 0.4451 - acc: 0.8058\n"
     ]
    },
    {
     "data": {
      "text/plain": [
       "<keras.callbacks.History at 0x7fa12c39edd0>"
      ]
     },
     "execution_count": 21,
     "metadata": {},
     "output_type": "execute_result"
    }
   ],
   "source": [
    "model.compile(loss = tf.keras.losses.binary_crossentropy, optimizer = tf.keras.optimizers.Adam(), metrics = ['acc'])\n",
    "model.fit(X_train, Y_train, batch_size = 32, verbose = 2, epochs = 75)"
   ]
  },
  {
   "cell_type": "code",
   "execution_count": 22,
   "id": "15183d10",
   "metadata": {
    "execution": {
     "iopub.execute_input": "2022-08-16T00:45:21.615338Z",
     "iopub.status.busy": "2022-08-16T00:45:21.613841Z",
     "iopub.status.idle": "2022-08-16T00:45:21.880968Z",
     "shell.execute_reply": "2022-08-16T00:45:21.879791Z"
    },
    "papermill": {
     "duration": 0.289372,
     "end_time": "2022-08-16T00:45:21.883839",
     "exception": false,
     "start_time": "2022-08-16T00:45:21.594467",
     "status": "completed"
    },
    "tags": []
   },
   "outputs": [
    {
     "name": "stdout",
     "output_type": "stream",
     "text": [
      "[0 0 0 0 1 0 1 0 1 0 1 0 1 0 1 1 0 0 0 0 0 0 1 0 1 0 1 0 0 1 0 0 1 1 0 0 1\n",
      " 1 0 1 0 1 0 1 1 0 0 1 1 1 0 0 1 1 1 0 0 0 1 1 0 0 0 1 1 1 1 0 0 1 1 0 1 0\n",
      " 1 1 1 1 0 1 1 1 0 1 1 1 1 1 1 1 1 1 1 1 0 0 1 0 1 0 1 0 1 0 1 0 0 1 1 0 0\n",
      " 1 1 1 1 0 1 1 1 1 1 1 1 0 1 1 0 1 0 0 0 0 1 1 0 0 0 0 1 0 0 1 1 0 0 0 1 0\n",
      " 1 0 1 1 1 0 0 0 1 1 0 1 1 1 1 1 0 1 0 0 1 1 1 0 0 1 0 1 1 0 1 1 0 1 1 1 1\n",
      " 0 1 0 1 0 0 1 0 0 1 0 1 1 0 1 1 1 1 1 0 1 1 0 1 0 0 1 0 1 0 0 1 1 1 1 1 0\n",
      " 1 0 1 1 0 1 0 0 0 1 0 1 0 0 0 0 1 1 1 1 1 1 1 0 1 0 1 1 1 0 1 0 0 1 1 0 1\n",
      " 0 0 0 1 1 0 1 1 1 1 0 0 1 1 1 1 1 0 0 0 0 1 1 1 1 1 0 1 1 1 1 1 1 1 0 0 0\n",
      " 1 1 0 0 0 1 0 0 1 1 1 1 0 1 0 0 1 1 1 1 1 0 0 0 0 0 0 1 1 0 1 0 0 0 1 0 1\n",
      " 1 0 0 0 0 0 1 0 0 1 1 1 1 0 0 0 1 1 0 0 0 1 0 1 1 1 1 0 1 1 0 1 1 1 1 1 0\n",
      " 0 1 0 0 1 1 0 0 0 0 1 0 1 1 1 1 0 0 0 0 1 1 0 0 0 1 0 1 0 0 1 0 1 0 0 0 0\n",
      " 1 1 1 1 1 1 1 1 0 1 1]\n"
     ]
    }
   ],
   "source": [
    "predict = model.predict(X_test)\n",
    "predict = (predict > 0.5).astype(int).ravel()\n",
    "print(predict)"
   ]
  }
 ],
 "metadata": {
  "kernelspec": {
   "display_name": "Python 3",
   "language": "python",
   "name": "python3"
  },
  "language_info": {
   "codemirror_mode": {
    "name": "ipython",
    "version": 3
   },
   "file_extension": ".py",
   "mimetype": "text/x-python",
   "name": "python",
   "nbconvert_exporter": "python",
   "pygments_lexer": "ipython3",
   "version": "3.7.12"
  },
  "papermill": {
   "default_parameters": {},
   "duration": 33.286594,
   "end_time": "2022-08-16T00:45:25.366570",
   "environment_variables": {},
   "exception": null,
   "input_path": "__notebook__.ipynb",
   "output_path": "__notebook__.ipynb",
   "parameters": {},
   "start_time": "2022-08-16T00:44:52.079976",
   "version": "2.3.4"
  }
 },
 "nbformat": 4,
 "nbformat_minor": 5
}
